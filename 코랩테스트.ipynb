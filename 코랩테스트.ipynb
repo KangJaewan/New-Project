{
  "nbformat": 4,
  "nbformat_minor": 0,
  "metadata": {
    "colab": {
      "provenance": [],
      "mount_file_id": "1YI_H_rsAP6qT-iV-ZNJzbmf5ioG3KUQd",
      "authorship_tag": "ABX9TyOKxNbOWiYOtS+T2zl+8oqx",
      "include_colab_link": true
    },
    "kernelspec": {
      "name": "python3",
      "display_name": "Python 3"
    },
    "language_info": {
      "name": "python"
    }
  },
  "cells": [
    {
      "cell_type": "markdown",
      "metadata": {
        "id": "view-in-github",
        "colab_type": "text"
      },
      "source": [
        "<a href=\"https://colab.research.google.com/github/KangJaewan/New-Project/blob/main/%EC%BD%94%EB%9E%A9%ED%85%8C%EC%8A%A4%ED%8A%B8.ipynb\" target=\"_parent\"><img src=\"https://colab.research.google.com/assets/colab-badge.svg\" alt=\"Open In Colab\"/></a>"
      ]
    },
    {
      "cell_type": "code",
      "execution_count": 1,
      "metadata": {
        "colab": {
          "base_uri": "https://localhost:8080/"
        },
        "id": "NQtD_GWuKVk2",
        "outputId": "60a975b6-6bc2-4252-d044-47cff244ca1d"
      },
      "outputs": [
        {
          "output_type": "stream",
          "name": "stdout",
          "text": [
            "hi\n"
          ]
        }
      ],
      "source": [
        "print('hi')"
      ]
    },
    {
      "cell_type": "code",
      "source": [
        "%%time\n",
        "\n",
        "import torch\n",
        "from torch import optim\n",
        "import torch.nn as nn\n",
        "import torch.nn.functional as f\n",
        "from torchvision.datasets import CIFAR10\n",
        "import torchvision.transforms as transforms\n",
        "from torch.utils.data import DataLoader"
      ],
      "metadata": {
        "colab": {
          "base_uri": "https://localhost:8080/"
        },
        "id": "AkmPELYmR7is",
        "outputId": "f0670cd0-83f2-485d-e2ce-2bfbdccf46fb"
      },
      "execution_count": 8,
      "outputs": [
        {
          "output_type": "stream",
          "name": "stdout",
          "text": [
            "CPU times: user 26 µs, sys: 4 µs, total: 30 µs\n",
            "Wall time: 33.4 µs\n"
          ]
        }
      ]
    },
    {
      "cell_type": "code",
      "source": [
        "%%time\n",
        "\n",
        "device = torch.device('cuda:0' if torch.cuda.is_available() else 'cpu')\n",
        "print(device)\n",
        "\n",
        "cifar10_train = CIFAR10('./data', train=True, download=True, transform=transforms.ToTensor())\n",
        "cifar10_test = CIFAR10('./data', train=False, download=True, transform=transforms.ToTensor())\n",
        "\n",
        "batch_size = 64\n",
        "train_loader = DataLoader(cifar10_train, batch_size=batch_size, shuffle=True)\n",
        "test_loader = DataLoader(cifar10_test, batch_size=batch_size, shuffle=False)\n",
        "\n",
        "class Net(nn.Module):\n",
        "    def __init__(self):\n",
        "        super(Net, self).__init__()\n",
        "        self.conv1 = nn.Conv2d(3, 6, 5)\n",
        "        self.pool = nn.MaxPool2d(2, 2)\n",
        "        self.conv2 = nn.Conv2d(6, 16, 5)\n",
        "        self.fc1 = nn.Linear(16 * 5 * 5, 120)\n",
        "        self.fc2 = nn.Linear(120, 84)\n",
        "    def forward(self, x):\n",
        "        x = self.pool(f.relu(self.conv1(x)))\n",
        "        x = self.pool(f.relu(self.conv2(x)))\n",
        "        x = x.view(-1, 16 * 5 * 5)\n",
        "        x = f.relu(self.fc1(x))\n",
        "        return x\n",
        "\n",
        "net = Net().to(device)\n",
        "loss_fn = nn.CrossEntropyLoss()\n",
        "optimizer = optim.Adam(net.parameters(), lr=0.001)\n",
        "\n",
        "recode_loss_train = []\n",
        "recode_loss_test = []\n",
        "\n",
        "x_test, y_test = next(iter(test_loader))\n",
        "x_test, y_test = x_test.to(device), y_test.to(device)\n",
        "\n",
        "for i in range(10):\n",
        "  net.train()\n",
        "  loss_train = 0.0\n",
        "  for j, (x_train, y_train) in enumerate(train_loader):\n",
        "    x_train, y_train = x_train.to(device), y_train.to(device)\n",
        "    y = net(x_train)\n",
        "    loss = loss_fn(y, y_train)\n",
        "    optimizer.zero_grad()\n",
        "    loss.backward()\n",
        "    optimizer.step()\n",
        "  loss_train /= (j+1)\n",
        "  recode_loss_train.append(loss_train)\n",
        "\n",
        "  net.eval()\n",
        "  y_pred = net(x_test)\n",
        "  loss_test = loss_fn(y_pred, y_test)\n",
        "  recode_loss_train.append(loss_test.item())"
      ],
      "metadata": {
        "colab": {
          "base_uri": "https://localhost:8080/"
        },
        "id": "XbiM_NMESWQ6",
        "outputId": "9af39b15-4cc8-4c91-9494-acd24498edb3"
      },
      "execution_count": 13,
      "outputs": [
        {
          "output_type": "stream",
          "name": "stdout",
          "text": [
            "cpu\n",
            "CPU times: user 3min 31s, sys: 217 ms, total: 3min 32s\n",
            "Wall time: 3min 33s\n"
          ]
        }
      ]
    },
    {
      "cell_type": "code",
      "source": [],
      "metadata": {
        "id": "maeOx0VRShDf"
      },
      "execution_count": null,
      "outputs": []
    }
  ]
}